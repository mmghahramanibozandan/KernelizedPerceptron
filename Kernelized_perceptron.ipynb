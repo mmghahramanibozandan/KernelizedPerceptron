{
  "nbformat": 4,
  "nbformat_minor": 0,
  "metadata": {
    "colab": {
      "name": "Kernelized_perceptron.ipynb",
      "provenance": [],
      "collapsed_sections": [
        "Z85QHy8cg6t2",
        "-OlsiCKxg3Gw",
        "OPAO41DeYEDT",
        "_goUUXI3Yjf5",
        "6KxcDVQQgGsL"
      ]
    },
    "kernelspec": {
      "name": "python3",
      "display_name": "Python 3"
    },
    "language_info": {
      "name": "python"
    }
  },
  "cells": [
    {
      "cell_type": "markdown",
      "metadata": {
        "id": "Z85QHy8cg6t2"
      },
      "source": [
        "#Imports"
      ]
    },
    {
      "cell_type": "code",
      "metadata": {
        "id": "IndPHNy9g8Lz"
      },
      "source": [
        "from tqdm import tqdm\n",
        "import numpy as np\n",
        "import pandas as pd\n",
        "import matplotlib.pyplot as plt\n",
        "import seaborn as sns\n",
        "sns.set_theme()"
      ],
      "execution_count": 1,
      "outputs": []
    },
    {
      "cell_type": "markdown",
      "metadata": {
        "id": "-OlsiCKxg3Gw"
      },
      "source": [
        "#My Kernelized Perceptron"
      ]
    },
    {
      "cell_type": "code",
      "metadata": {
        "id": "o_mU6kSEMLr1"
      },
      "source": [
        "class My_Kernelized_Perceptron:\n",
        "\n",
        "  def __init__(self):\n",
        "\n",
        "    pass\n",
        "\n",
        "  def linear_kernel(self, x_i, x):\n",
        "\n",
        "    return np.dot(x_i, x)\n",
        "\n",
        "  def polynomial_kernel(self, x_i, x, u, p):\n",
        "\n",
        "    return np.power((np.dot(x_i, x) + u), p)\n",
        "\n",
        "  def rbf_kernel(self, x_i, x, gamma):\n",
        "\n",
        "    return np.exp(-gamma * np.sum(np.square(x_i - x)))\n",
        "\n",
        "  def forward(self, X, W):\n",
        "\n",
        "    summation = np.dot(W.T, X)\n",
        "\n",
        "    return np.sign(summation)\n",
        "\n",
        "  def fit(self, data, kernel_type, epochs, u=None, p=None, gamma=None):\n",
        "\n",
        "    if kernel_type == 'linear': K = self.linear_kernel\n",
        "    elif kernel_type == 'polynomial': K = self.polynomial_kernel\n",
        "    elif kernel_type == 'rbf': K = self.rbf_kernel\n",
        "\n",
        "    number_of_samples = len(data)\n",
        "\n",
        "    alpha = np.zeros(number_of_samples)\n",
        "\n",
        "    for _ in tqdm(range(epochs)):\n",
        "\n",
        "      for j in range(len(data)):\n",
        "\n",
        "        x_j = data.iloc[j, :-1].to_numpy()\n",
        "        x_j = np.append(1, x_j)\n",
        "        y_j = data.iloc[j, -1]\n",
        "\n",
        "        s = 0\n",
        "\n",
        "        for i in range(len(data)):\n",
        "\n",
        "          x_i = data.iloc[i, :-1].to_numpy()\n",
        "          x_i = np.append(1, x_i)\n",
        "\n",
        "          if kernel_type == 'linear':\n",
        "\n",
        "            s += alpha[i] * data.iloc[i, -1] * self.linear_kernel(x_i, x_j)\n",
        "\n",
        "          elif kernel_type == 'polynomial':\n",
        "\n",
        "            s += alpha[i] * data.iloc[i, -1] * self.polynomial_kernel(x_i, x_j, u, p)\n",
        "\n",
        "          elif kernel_type == 'rbf':\n",
        "\n",
        "            s += alpha[i] * data.iloc[i, -1] * self.rbf_kernel(x_i, x_j, gamma)\n",
        "\n",
        "\n",
        "        y_hat = np.sign(s)\n",
        "\n",
        "        if y_hat != y_j:\n",
        "\n",
        "          alpha[j] = alpha[j] + 1\n",
        "\n",
        "    self.alpha = alpha\n",
        "    self.data = data\n",
        "\n",
        "  def weights(self, data):\n",
        "\n",
        "    self.w = 0\n",
        "\n",
        "    for idx in range(len(data)):\n",
        "\n",
        "      x_i = data.iloc[idx, :-1].to_numpy()\n",
        "      x_i = np.append(1, x_i)\n",
        "      y_i = data.iloc[idx, -1]\n",
        "\n",
        "      self.w += self.alpha[idx] * y_i * x_i\n",
        "\n",
        "    self.slope = -self.w[1] / self.w[2]\n",
        "    self.intercept = -self.w[0] / self.w[2]\n",
        "\n",
        "    return self.w\n",
        "  \n",
        "  def predict(self, pre_sample):\n",
        "\n",
        "    X_pre = np.append(1, pre_sample) # X = [1, x]\n",
        "\n",
        "    return self.forward(X_pre, self.w)"
      ],
      "execution_count": 2,
      "outputs": []
    },
    {
      "cell_type": "markdown",
      "metadata": {
        "id": "OPAO41DeYEDT"
      },
      "source": [
        "#Linear Kernel"
      ]
    },
    {
      "cell_type": "code",
      "metadata": {
        "colab": {
          "base_uri": "https://localhost:8080/",
          "height": 362
        },
        "id": "xyG3O2aDfUpX",
        "outputId": "5fee669c-bf1a-4e5c-a821-2b248f56987d"
      },
      "source": [
        "x = [i for i in range(1, 11)]\n",
        "y = [4, 1, 1.5, 5, 8, 6, 3, 1, 7.5, 0]\n",
        "target = [1, -1, -1, 1, 1, -1, -1, -1, 1, -1]\n",
        "\n",
        "training_data = pd.DataFrame(None)\n",
        "training_data[\"feature1\"] = x\n",
        "training_data[\"feature2\"] = y\n",
        "training_data[\"target\"] = target\n",
        "\n",
        "training_data"
      ],
      "execution_count": 3,
      "outputs": [
        {
          "output_type": "execute_result",
          "data": {
            "text/html": [
              "<div>\n",
              "<style scoped>\n",
              "    .dataframe tbody tr th:only-of-type {\n",
              "        vertical-align: middle;\n",
              "    }\n",
              "\n",
              "    .dataframe tbody tr th {\n",
              "        vertical-align: top;\n",
              "    }\n",
              "\n",
              "    .dataframe thead th {\n",
              "        text-align: right;\n",
              "    }\n",
              "</style>\n",
              "<table border=\"1\" class=\"dataframe\">\n",
              "  <thead>\n",
              "    <tr style=\"text-align: right;\">\n",
              "      <th></th>\n",
              "      <th>feature1</th>\n",
              "      <th>feature2</th>\n",
              "      <th>target</th>\n",
              "    </tr>\n",
              "  </thead>\n",
              "  <tbody>\n",
              "    <tr>\n",
              "      <th>0</th>\n",
              "      <td>1</td>\n",
              "      <td>4.0</td>\n",
              "      <td>1</td>\n",
              "    </tr>\n",
              "    <tr>\n",
              "      <th>1</th>\n",
              "      <td>2</td>\n",
              "      <td>1.0</td>\n",
              "      <td>-1</td>\n",
              "    </tr>\n",
              "    <tr>\n",
              "      <th>2</th>\n",
              "      <td>3</td>\n",
              "      <td>1.5</td>\n",
              "      <td>-1</td>\n",
              "    </tr>\n",
              "    <tr>\n",
              "      <th>3</th>\n",
              "      <td>4</td>\n",
              "      <td>5.0</td>\n",
              "      <td>1</td>\n",
              "    </tr>\n",
              "    <tr>\n",
              "      <th>4</th>\n",
              "      <td>5</td>\n",
              "      <td>8.0</td>\n",
              "      <td>1</td>\n",
              "    </tr>\n",
              "    <tr>\n",
              "      <th>5</th>\n",
              "      <td>6</td>\n",
              "      <td>6.0</td>\n",
              "      <td>-1</td>\n",
              "    </tr>\n",
              "    <tr>\n",
              "      <th>6</th>\n",
              "      <td>7</td>\n",
              "      <td>3.0</td>\n",
              "      <td>-1</td>\n",
              "    </tr>\n",
              "    <tr>\n",
              "      <th>7</th>\n",
              "      <td>8</td>\n",
              "      <td>1.0</td>\n",
              "      <td>-1</td>\n",
              "    </tr>\n",
              "    <tr>\n",
              "      <th>8</th>\n",
              "      <td>9</td>\n",
              "      <td>7.5</td>\n",
              "      <td>1</td>\n",
              "    </tr>\n",
              "    <tr>\n",
              "      <th>9</th>\n",
              "      <td>10</td>\n",
              "      <td>0.0</td>\n",
              "      <td>-1</td>\n",
              "    </tr>\n",
              "  </tbody>\n",
              "</table>\n",
              "</div>"
            ],
            "text/plain": [
              "   feature1  feature2  target\n",
              "0         1       4.0       1\n",
              "1         2       1.0      -1\n",
              "2         3       1.5      -1\n",
              "3         4       5.0       1\n",
              "4         5       8.0       1\n",
              "5         6       6.0      -1\n",
              "6         7       3.0      -1\n",
              "7         8       1.0      -1\n",
              "8         9       7.5       1\n",
              "9        10       0.0      -1"
            ]
          },
          "metadata": {},
          "execution_count": 3
        }
      ]
    },
    {
      "cell_type": "code",
      "metadata": {
        "colab": {
          "base_uri": "https://localhost:8080/",
          "height": 394
        },
        "id": "soaoflUBfZCb",
        "outputId": "56ffe108-43d6-4e95-e694-35478c321a94"
      },
      "source": [
        "plt.figure(figsize=(11, 6))\n",
        "\n",
        "sns.scatterplot(data = training_data, x = \"feature1\", y = \"feature2\", hue = \"target\", palette = [\"red\", \"green\"], s = 40)\n",
        "plt.show()"
      ],
      "execution_count": 4,
      "outputs": [
        {
          "output_type": "display_data",
          "data": {
            "image/png": "[encoded data removed]",
            "text/plain": [
              "<Figure size 792x432 with 1 Axes>"
            ]
          },
          "metadata": {
            "needs_background": "light"
          }
        }
      ]
    },
    {
      "cell_type": "code",
      "metadata": {
        "colab": {
          "base_uri": "https://localhost:8080/"
        },
        "id": "PLbewt4iRaXP",
        "outputId": "3ca72cdd-e8cc-4f4d-98f4-92ca57e58a15"
      },
      "source": [
        "epochs = 100\n",
        "\n",
        "kp_model = My_Kernelized_Perceptron()\n",
        "\n",
        "kp_model.fit(data= training_data, kernel_type='linear', epochs= epochs)"
      ],
      "execution_count": 5,
      "outputs": [
        {
          "output_type": "stream",
          "name": "stderr",
          "text": [
            "100%|██████████| 100/100 [00:03<00:00, 27.72it/s]\n"
          ]
        }
      ]
    },
    {
      "cell_type": "code",
      "metadata": {
        "colab": {
          "base_uri": "https://localhost:8080/"
        },
        "id": "sBEiA49MTjjj",
        "outputId": "1ff5f998-3c67-4435-8b27-1b790d32701c"
      },
      "source": [
        "weights = kp_model.weights(data= training_data)\n",
        "print(f\"Weights:{weights}\\nSlope:{kp_model.slope}\\nIntercept:{kp_model.intercept}\")"
      ],
      "execution_count": 6,
      "outputs": [
        {
          "output_type": "stream",
          "name": "stdout",
          "text": [
            "Weights:[-49.   -4.   17.5]\n",
            "Slope:0.22857142857142856\n",
            "Intercept:2.8\n"
          ]
        }
      ]
    },
    {
      "cell_type": "code",
      "metadata": {
        "colab": {
          "base_uri": "https://localhost:8080/",
          "height": 394
        },
        "id": "Ag-eZAm1ScrS",
        "outputId": "566612f4-0858-49a4-e653-982283899655"
      },
      "source": [
        "plt.figure(figsize=(11, 6))\n",
        "\n",
        "m = kp_model.slope\n",
        "h = kp_model.intercept\n",
        "\n",
        "training_data['f_pred'] = m * training_data[\"feature1\"] + h\n",
        "\n",
        "sns.scatterplot(data = training_data, x = \"feature1\", y = \"feature2\", hue = \"target\", palette = [\"red\", \"green\"], s = 40)\n",
        "sns.lineplot(data = training_data, x = \"feature1\", y = \"f_pred\")\n",
        "\n",
        "plt.show()"
      ],
      "execution_count": 7,
      "outputs": [
        {
          "output_type": "display_data",
          "data": {
            "image/png": "[encoded data removed]",
            "text/plain": [
              "<Figure size 792x432 with 1 Axes>"
            ]
          },
          "metadata": {
            "needs_background": "light"
          }
        }
      ]
    },
    {
      "cell_type": "markdown",
      "metadata": {
        "id": "kgkV7110gdeL"
      },
      "source": [
        "It tries to find a hyperplane to seperate the data, but since the data is not linearly seperable, it mislabeled one data."
      ]
    },
    {
      "cell_type": "markdown",
      "metadata": {
        "id": "_goUUXI3Yjf5"
      },
      "source": [
        "#Polynomial Kernel"
      ]
    },
    {
      "cell_type": "code",
      "metadata": {
        "colab": {
          "base_uri": "https://localhost:8080/",
          "height": 362
        },
        "id": "z4UL8Em4fdnb",
        "outputId": "ef1193ea-8dec-4102-872b-c776ffc852c0"
      },
      "source": [
        "x = [i for i in range(1, 11)]\n",
        "y = [4, 1, 1.5, 5, 8, 6, 3, 1, 7.5, 0]\n",
        "target = [1, -1, -1, 1, 1, -1, -1, -1, 1, -1]\n",
        "\n",
        "training_data = pd.DataFrame(None)\n",
        "training_data[\"feature1\"] = x\n",
        "training_data[\"feature2\"] = y\n",
        "training_data[\"target\"] = target\n",
        "\n",
        "training_data"
      ],
      "execution_count": 8,
      "outputs": [
        {
          "output_type": "execute_result",
          "data": {
            "text/html": [
              "<div>\n",
              "<style scoped>\n",
              "    .dataframe tbody tr th:only-of-type {\n",
              "        vertical-align: middle;\n",
              "    }\n",
              "\n",
              "    .dataframe tbody tr th {\n",
              "        vertical-align: top;\n",
              "    }\n",
              "\n",
              "    .dataframe thead th {\n",
              "        text-align: right;\n",
              "    }\n",
              "</style>\n",
              "<table border=\"1\" class=\"dataframe\">\n",
              "  <thead>\n",
              "    <tr style=\"text-align: right;\">\n",
              "      <th></th>\n",
              "      <th>feature1</th>\n",
              "      <th>feature2</th>\n",
              "      <th>target</th>\n",
              "    </tr>\n",
              "  </thead>\n",
              "  <tbody>\n",
              "    <tr>\n",
              "      <th>0</th>\n",
              "      <td>1</td>\n",
              "      <td>4.0</td>\n",
              "      <td>1</td>\n",
              "    </tr>\n",
              "    <tr>\n",
              "      <th>1</th>\n",
              "      <td>2</td>\n",
              "      <td>1.0</td>\n",
              "      <td>-1</td>\n",
              "    </tr>\n",
              "    <tr>\n",
              "      <th>2</th>\n",
              "      <td>3</td>\n",
              "      <td>1.5</td>\n",
              "      <td>-1</td>\n",
              "    </tr>\n",
              "    <tr>\n",
              "      <th>3</th>\n",
              "      <td>4</td>\n",
              "      <td>5.0</td>\n",
              "      <td>1</td>\n",
              "    </tr>\n",
              "    <tr>\n",
              "      <th>4</th>\n",
              "      <td>5</td>\n",
              "      <td>8.0</td>\n",
              "      <td>1</td>\n",
              "    </tr>\n",
              "    <tr>\n",
              "      <th>5</th>\n",
              "      <td>6</td>\n",
              "      <td>6.0</td>\n",
              "      <td>-1</td>\n",
              "    </tr>\n",
              "    <tr>\n",
              "      <th>6</th>\n",
              "      <td>7</td>\n",
              "      <td>3.0</td>\n",
              "      <td>-1</td>\n",
              "    </tr>\n",
              "    <tr>\n",
              "      <th>7</th>\n",
              "      <td>8</td>\n",
              "      <td>1.0</td>\n",
              "      <td>-1</td>\n",
              "    </tr>\n",
              "    <tr>\n",
              "      <th>8</th>\n",
              "      <td>9</td>\n",
              "      <td>7.5</td>\n",
              "      <td>1</td>\n",
              "    </tr>\n",
              "    <tr>\n",
              "      <th>9</th>\n",
              "      <td>10</td>\n",
              "      <td>0.0</td>\n",
              "      <td>-1</td>\n",
              "    </tr>\n",
              "  </tbody>\n",
              "</table>\n",
              "</div>"
            ],
            "text/plain": [
              "   feature1  feature2  target\n",
              "0         1       4.0       1\n",
              "1         2       1.0      -1\n",
              "2         3       1.5      -1\n",
              "3         4       5.0       1\n",
              "4         5       8.0       1\n",
              "5         6       6.0      -1\n",
              "6         7       3.0      -1\n",
              "7         8       1.0      -1\n",
              "8         9       7.5       1\n",
              "9        10       0.0      -1"
            ]
          },
          "metadata": {},
          "execution_count": 8
        }
      ]
    },
    {
      "cell_type": "code",
      "metadata": {
        "colab": {
          "base_uri": "https://localhost:8080/"
        },
        "id": "AcWc1yskVCny",
        "outputId": "f63079cc-99d0-45a7-d5f3-e9261ce77092"
      },
      "source": [
        "epochs = 100\n",
        "\n",
        "kp_model = My_Kernelized_Perceptron()\n",
        "\n",
        "kp_model.fit(data= training_data, kernel_type='polynomial', epochs= epochs, u= 1, p= 3)"
      ],
      "execution_count": 9,
      "outputs": [
        {
          "output_type": "stream",
          "name": "stderr",
          "text": [
            "100%|██████████| 100/100 [00:04<00:00, 24.52it/s]\n"
          ]
        }
      ]
    },
    {
      "cell_type": "code",
      "metadata": {
        "colab": {
          "base_uri": "https://localhost:8080/"
        },
        "id": "DFVCxY66YrbO",
        "outputId": "dab09c24-a42a-4ea8-fe21-0ec9814dafbe"
      },
      "source": [
        "weights = kp_model.weights(data= training_data)\n",
        "print(f\"Weights:{weights}\\nSlope:{kp_model.slope}\\nIntercept:{kp_model.intercept}\")"
      ],
      "execution_count": 10,
      "outputs": [
        {
          "output_type": "stream",
          "name": "stdout",
          "text": [
            "Weights:[ -34.  -337.   -86.5]\n",
            "Slope:-3.8959537572254335\n",
            "Intercept:-0.3930635838150289\n"
          ]
        }
      ]
    },
    {
      "cell_type": "markdown",
      "metadata": {
        "id": "RdxKZgtnfw0J"
      },
      "source": [
        "There would not be any visualization since we do not know what kind of transformation has been used to map the data from the input space to the feature space."
      ]
    },
    {
      "cell_type": "markdown",
      "metadata": {
        "id": "6KxcDVQQgGsL"
      },
      "source": [
        "#RBF Kernel"
      ]
    },
    {
      "cell_type": "code",
      "metadata": {
        "colab": {
          "base_uri": "https://localhost:8080/",
          "height": 362
        },
        "id": "XnhSy1DpeQzH",
        "outputId": "c7e3fb28-a001-422a-ad92-82f1905f49c2"
      },
      "source": [
        "x = [i for i in range(1, 11)]\n",
        "y = [4, 1, 1.5, 5, 8, 6, 3, 1, 7.5, 0]\n",
        "target = [1, -1, -1, 1, 1, -1, -1, -1, 1, -1]\n",
        "\n",
        "training_data = pd.DataFrame(None)\n",
        "training_data[\"feature1\"] = x\n",
        "training_data[\"feature2\"] = y\n",
        "training_data[\"target\"] = target\n",
        "\n",
        "training_data"
      ],
      "execution_count": 11,
      "outputs": [
        {
          "output_type": "execute_result",
          "data": {
            "text/html": [
              "<div>\n",
              "<style scoped>\n",
              "    .dataframe tbody tr th:only-of-type {\n",
              "        vertical-align: middle;\n",
              "    }\n",
              "\n",
              "    .dataframe tbody tr th {\n",
              "        vertical-align: top;\n",
              "    }\n",
              "\n",
              "    .dataframe thead th {\n",
              "        text-align: right;\n",
              "    }\n",
              "</style>\n",
              "<table border=\"1\" class=\"dataframe\">\n",
              "  <thead>\n",
              "    <tr style=\"text-align: right;\">\n",
              "      <th></th>\n",
              "      <th>feature1</th>\n",
              "      <th>feature2</th>\n",
              "      <th>target</th>\n",
              "    </tr>\n",
              "  </thead>\n",
              "  <tbody>\n",
              "    <tr>\n",
              "      <th>0</th>\n",
              "      <td>1</td>\n",
              "      <td>4.0</td>\n",
              "      <td>1</td>\n",
              "    </tr>\n",
              "    <tr>\n",
              "      <th>1</th>\n",
              "      <td>2</td>\n",
              "      <td>1.0</td>\n",
              "      <td>-1</td>\n",
              "    </tr>\n",
              "    <tr>\n",
              "      <th>2</th>\n",
              "      <td>3</td>\n",
              "      <td>1.5</td>\n",
              "      <td>-1</td>\n",
              "    </tr>\n",
              "    <tr>\n",
              "      <th>3</th>\n",
              "      <td>4</td>\n",
              "      <td>5.0</td>\n",
              "      <td>1</td>\n",
              "    </tr>\n",
              "    <tr>\n",
              "      <th>4</th>\n",
              "      <td>5</td>\n",
              "      <td>8.0</td>\n",
              "      <td>1</td>\n",
              "    </tr>\n",
              "    <tr>\n",
              "      <th>5</th>\n",
              "      <td>6</td>\n",
              "      <td>6.0</td>\n",
              "      <td>-1</td>\n",
              "    </tr>\n",
              "    <tr>\n",
              "      <th>6</th>\n",
              "      <td>7</td>\n",
              "      <td>3.0</td>\n",
              "      <td>-1</td>\n",
              "    </tr>\n",
              "    <tr>\n",
              "      <th>7</th>\n",
              "      <td>8</td>\n",
              "      <td>1.0</td>\n",
              "      <td>-1</td>\n",
              "    </tr>\n",
              "    <tr>\n",
              "      <th>8</th>\n",
              "      <td>9</td>\n",
              "      <td>7.5</td>\n",
              "      <td>1</td>\n",
              "    </tr>\n",
              "    <tr>\n",
              "      <th>9</th>\n",
              "      <td>10</td>\n",
              "      <td>0.0</td>\n",
              "      <td>-1</td>\n",
              "    </tr>\n",
              "  </tbody>\n",
              "</table>\n",
              "</div>"
            ],
            "text/plain": [
              "   feature1  feature2  target\n",
              "0         1       4.0       1\n",
              "1         2       1.0      -1\n",
              "2         3       1.5      -1\n",
              "3         4       5.0       1\n",
              "4         5       8.0       1\n",
              "5         6       6.0      -1\n",
              "6         7       3.0      -1\n",
              "7         8       1.0      -1\n",
              "8         9       7.5       1\n",
              "9        10       0.0      -1"
            ]
          },
          "metadata": {},
          "execution_count": 11
        }
      ]
    },
    {
      "cell_type": "code",
      "metadata": {
        "colab": {
          "base_uri": "https://localhost:8080/"
        },
        "id": "QWpjqiJXgM9b",
        "outputId": "f035993b-e427-4b79-e413-a4e8e85c3702"
      },
      "source": [
        "epochs = 100\n",
        "\n",
        "kp_model = My_Kernelized_Perceptron()\n",
        "\n",
        "kp_model.fit(data= training_data, kernel_type='rbf', epochs= epochs, gamma = 1)"
      ],
      "execution_count": 12,
      "outputs": [
        {
          "output_type": "stream",
          "name": "stderr",
          "text": [
            "100%|██████████| 100/100 [00:03<00:00, 26.83it/s]\n"
          ]
        }
      ]
    },
    {
      "cell_type": "code",
      "metadata": {
        "colab": {
          "base_uri": "https://localhost:8080/"
        },
        "id": "CveGzuKBgR4I",
        "outputId": "883cf226-0075-4fa3-b36e-55f583c42126"
      },
      "source": [
        "weights = kp_model.weights(data= training_data)\n",
        "print(f\"Weights:{weights}\\nSlope:{kp_model.slope}\\nIntercept:{kp_model.intercept}\")"
      ],
      "execution_count": 13,
      "outputs": [
        {
          "output_type": "stream",
          "name": "stdout",
          "text": [
            "Weights:[ 2.  11.  17.5]\n",
            "Slope:-0.6285714285714286\n",
            "Intercept:-0.11428571428571428\n"
          ]
        }
      ]
    },
    {
      "cell_type": "markdown",
      "metadata": {
        "id": "W1MkIqUdgXo5"
      },
      "source": [
        "There would not be any visualization since we do not know what kind of transformation has been used to map the data from the input space to the feature space."
      ]
    }
  ]
}